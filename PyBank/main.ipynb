{
 "cells": [
  {
   "cell_type": "code",
   "execution_count": 17,
   "id": "e3811106-7ceb-4043-ae7a-660b5f6ed360",
   "metadata": {},
   "outputs": [],
   "source": [
    "import os\n",
    "import pandas as pda"
   ]
  },
  {
   "cell_type": "code",
   "execution_count": 18,
   "id": "c8d2709c-cac6-40ac-bf62-d4d4086b53c0",
   "metadata": {},
   "outputs": [],
   "source": [
    "df = pda.read_csv(\"resources/budget_data.csv\")"
   ]
  },
  {
   "cell_type": "code",
   "execution_count": 19,
   "id": "85f60355-b80b-461c-bf30-11c5e5b14a34",
   "metadata": {},
   "outputs": [
    {
     "name": "stdout",
     "output_type": "stream",
     "text": [
      "<class 'pandas.core.frame.DataFrame'>\n",
      "RangeIndex: 86 entries, 0 to 85\n",
      "Data columns (total 2 columns):\n",
      " #   Column         Non-Null Count  Dtype \n",
      "---  ------         --------------  ----- \n",
      " 0   Date           86 non-null     object\n",
      " 1   Profit/Losses  86 non-null     int64 \n",
      "dtypes: int64(1), object(1)\n",
      "memory usage: 1.5+ KB\n"
     ]
    }
   ],
   "source": [
    "#find number of columns\n",
    "df.info()"
   ]
  },
  {
   "cell_type": "code",
   "execution_count": 20,
   "id": "537f1ef6-4e66-41db-bf91-8959dad3723c",
   "metadata": {},
   "outputs": [
    {
     "data": {
      "text/html": [
       "<div>\n",
       "<style scoped>\n",
       "    .dataframe tbody tr th:only-of-type {\n",
       "        vertical-align: middle;\n",
       "    }\n",
       "\n",
       "    .dataframe tbody tr th {\n",
       "        vertical-align: top;\n",
       "    }\n",
       "\n",
       "    .dataframe thead th {\n",
       "        text-align: right;\n",
       "    }\n",
       "</style>\n",
       "<table border=\"1\" class=\"dataframe\">\n",
       "  <thead>\n",
       "    <tr style=\"text-align: right;\">\n",
       "      <th></th>\n",
       "      <th>Date</th>\n",
       "      <th>Profit/Losses</th>\n",
       "    </tr>\n",
       "  </thead>\n",
       "  <tbody>\n",
       "    <tr>\n",
       "      <th>0</th>\n",
       "      <td>Jan-2010</td>\n",
       "      <td>867884</td>\n",
       "    </tr>\n",
       "    <tr>\n",
       "      <th>1</th>\n",
       "      <td>Feb-2010</td>\n",
       "      <td>984655</td>\n",
       "    </tr>\n",
       "    <tr>\n",
       "      <th>2</th>\n",
       "      <td>Mar-2010</td>\n",
       "      <td>322013</td>\n",
       "    </tr>\n",
       "    <tr>\n",
       "      <th>3</th>\n",
       "      <td>Apr-2010</td>\n",
       "      <td>-69417</td>\n",
       "    </tr>\n",
       "    <tr>\n",
       "      <th>4</th>\n",
       "      <td>May-2010</td>\n",
       "      <td>310503</td>\n",
       "    </tr>\n",
       "  </tbody>\n",
       "</table>\n",
       "</div>"
      ],
      "text/plain": [
       "       Date  Profit/Losses\n",
       "0  Jan-2010         867884\n",
       "1  Feb-2010         984655\n",
       "2  Mar-2010         322013\n",
       "3  Apr-2010         -69417\n",
       "4  May-2010         310503"
      ]
     },
     "execution_count": 20,
     "metadata": {},
     "output_type": "execute_result"
    }
   ],
   "source": [
    "#show top 5 rows of data frame\n",
    "df.head()"
   ]
  },
  {
   "cell_type": "code",
   "execution_count": 21,
   "id": "3f6dbc8d-8378-4df6-95fc-97208598f15d",
   "metadata": {},
   "outputs": [
    {
     "data": {
      "text/plain": [
       "86"
      ]
     },
     "execution_count": 21,
     "metadata": {},
     "output_type": "execute_result"
    }
   ],
   "source": [
    "# count number of months\n",
    "months = df[\"Date\"].count()\n",
    "months"
   ]
  },
  {
   "cell_type": "code",
   "execution_count": 22,
   "id": "9086188b-8e2c-44cb-b7bd-963f1da4d825",
   "metadata": {},
   "outputs": [
    {
     "data": {
      "text/plain": [
       "38382578"
      ]
     },
     "execution_count": 22,
     "metadata": {},
     "output_type": "execute_result"
    }
   ],
   "source": [
    "# count total profit/loss\n",
    "net_total = df[\"Profit/Losses\"].sum()\n",
    "net_total"
   ]
  },
  {
   "cell_type": "code",
   "execution_count": 23,
   "id": "93b03a48-b1e6-4ed1-9eac-ec918dde087a",
   "metadata": {},
   "outputs": [],
   "source": [
    "# convert profitloss to list\n",
    "profitloss = df[\"Profit/Losses\"].to_list()"
   ]
  },
  {
   "cell_type": "code",
   "execution_count": 24,
   "id": "c771e6b2-6535-4a7e-9f7a-a407a635377c",
   "metadata": {},
   "outputs": [],
   "source": [
    "totalchg = [0]"
   ]
  },
  {
   "cell_type": "code",
   "execution_count": 25,
   "id": "3d5f286e-6286-47ff-b6dc-81e50cc03be6",
   "metadata": {},
   "outputs": [],
   "source": [
    "#calculate change\n",
    "for x in range(1, len(profitloss)):\n",
    "    change = profitloss[x]-profitloss[x - 1]\n",
    "    totalchg.append(change)\n"
   ]
  },
  {
   "cell_type": "code",
   "execution_count": 26,
   "id": "32b0811f-657e-4577-85c2-2af81fb71726",
   "metadata": {},
   "outputs": [
    {
     "data": {
      "text/html": [
       "<div>\n",
       "<style scoped>\n",
       "    .dataframe tbody tr th:only-of-type {\n",
       "        vertical-align: middle;\n",
       "    }\n",
       "\n",
       "    .dataframe tbody tr th {\n",
       "        vertical-align: top;\n",
       "    }\n",
       "\n",
       "    .dataframe thead th {\n",
       "        text-align: right;\n",
       "    }\n",
       "</style>\n",
       "<table border=\"1\" class=\"dataframe\">\n",
       "  <thead>\n",
       "    <tr style=\"text-align: right;\">\n",
       "      <th></th>\n",
       "      <th>Date</th>\n",
       "      <th>Profit/Losses</th>\n",
       "    </tr>\n",
       "  </thead>\n",
       "  <tbody>\n",
       "    <tr>\n",
       "      <th>0</th>\n",
       "      <td>Jan-2010</td>\n",
       "      <td>867884</td>\n",
       "    </tr>\n",
       "    <tr>\n",
       "      <th>1</th>\n",
       "      <td>Feb-2010</td>\n",
       "      <td>984655</td>\n",
       "    </tr>\n",
       "    <tr>\n",
       "      <th>2</th>\n",
       "      <td>Mar-2010</td>\n",
       "      <td>322013</td>\n",
       "    </tr>\n",
       "    <tr>\n",
       "      <th>3</th>\n",
       "      <td>Apr-2010</td>\n",
       "      <td>-69417</td>\n",
       "    </tr>\n",
       "    <tr>\n",
       "      <th>4</th>\n",
       "      <td>May-2010</td>\n",
       "      <td>310503</td>\n",
       "    </tr>\n",
       "  </tbody>\n",
       "</table>\n",
       "</div>"
      ],
      "text/plain": [
       "       Date  Profit/Losses\n",
       "0  Jan-2010         867884\n",
       "1  Feb-2010         984655\n",
       "2  Mar-2010         322013\n",
       "3  Apr-2010         -69417\n",
       "4  May-2010         310503"
      ]
     },
     "execution_count": 26,
     "metadata": {},
     "output_type": "execute_result"
    }
   ],
   "source": [
    "diff_df = pda.DataFrame(df)\n",
    "diff_df.head()"
   ]
  },
  {
   "cell_type": "code",
   "execution_count": 27,
   "id": "959ef9c9-1f06-466d-a15a-736ac768a3fb",
   "metadata": {},
   "outputs": [
    {
     "data": {
      "text/html": [
       "<div>\n",
       "<style scoped>\n",
       "    .dataframe tbody tr th:only-of-type {\n",
       "        vertical-align: middle;\n",
       "    }\n",
       "\n",
       "    .dataframe tbody tr th {\n",
       "        vertical-align: top;\n",
       "    }\n",
       "\n",
       "    .dataframe thead th {\n",
       "        text-align: right;\n",
       "    }\n",
       "</style>\n",
       "<table border=\"1\" class=\"dataframe\">\n",
       "  <thead>\n",
       "    <tr style=\"text-align: right;\">\n",
       "      <th></th>\n",
       "      <th>Date</th>\n",
       "      <th>Profit/Losses</th>\n",
       "      <th>Difference</th>\n",
       "    </tr>\n",
       "  </thead>\n",
       "  <tbody>\n",
       "    <tr>\n",
       "      <th>0</th>\n",
       "      <td>Jan-2010</td>\n",
       "      <td>867884</td>\n",
       "      <td>0</td>\n",
       "    </tr>\n",
       "    <tr>\n",
       "      <th>1</th>\n",
       "      <td>Feb-2010</td>\n",
       "      <td>984655</td>\n",
       "      <td>116771</td>\n",
       "    </tr>\n",
       "    <tr>\n",
       "      <th>2</th>\n",
       "      <td>Mar-2010</td>\n",
       "      <td>322013</td>\n",
       "      <td>-662642</td>\n",
       "    </tr>\n",
       "    <tr>\n",
       "      <th>3</th>\n",
       "      <td>Apr-2010</td>\n",
       "      <td>-69417</td>\n",
       "      <td>-391430</td>\n",
       "    </tr>\n",
       "    <tr>\n",
       "      <th>4</th>\n",
       "      <td>May-2010</td>\n",
       "      <td>310503</td>\n",
       "      <td>379920</td>\n",
       "    </tr>\n",
       "  </tbody>\n",
       "</table>\n",
       "</div>"
      ],
      "text/plain": [
       "       Date  Profit/Losses  Difference\n",
       "0  Jan-2010         867884           0\n",
       "1  Feb-2010         984655      116771\n",
       "2  Mar-2010         322013     -662642\n",
       "3  Apr-2010         -69417     -391430\n",
       "4  May-2010         310503      379920"
      ]
     },
     "execution_count": 27,
     "metadata": {},
     "output_type": "execute_result"
    }
   ],
   "source": [
    "#add a column for the change\n",
    "diff_df[\"Difference\"] = totalchg\n",
    "diff_df.head()"
   ]
  },
  {
   "cell_type": "code",
   "execution_count": 28,
   "id": "5f077b0f-cadb-426c-bf77-e450e36e9595",
   "metadata": {},
   "outputs": [
    {
     "data": {
      "text/plain": [
       "-2315.1176470588234"
      ]
     },
     "execution_count": 28,
     "metadata": {},
     "output_type": "execute_result"
    }
   ],
   "source": [
    "#calculate average of the change, use months-1 to exclude the first row with no change\n",
    "avgchg = diff_df[\"Difference\"].sum() / (months-1)\n",
    "avgchg"
   ]
  },
  {
   "cell_type": "code",
   "execution_count": 29,
   "id": "e18dc8da-4da8-430e-ad78-458d9530fb1f",
   "metadata": {},
   "outputs": [
    {
     "data": {
      "text/plain": [
       "1926159"
      ]
     },
     "execution_count": 29,
     "metadata": {},
     "output_type": "execute_result"
    }
   ],
   "source": [
    "#calculate greatest increase \n",
    "maxchg = diff_df[\"Difference\"].max()\n",
    "maxchg"
   ]
  },
  {
   "cell_type": "code",
   "execution_count": 30,
   "id": "251a2927-eca0-4a1d-a784-da4ed573c254",
   "metadata": {},
   "outputs": [
    {
     "data": {
      "text/plain": [
       "25    Feb-2012\n",
       "Name: Date, dtype: object"
      ]
     },
     "execution_count": 30,
     "metadata": {},
     "output_type": "execute_result"
    }
   ],
   "source": [
    "#find corresponding date\n",
    "mxdate = diff_df.loc[diff_df['Difference'] == maxchg,'Date']\n",
    "mxdate"
   ]
  },
  {
   "cell_type": "code",
   "execution_count": 31,
   "id": "70c69c17-dcf1-488c-9f7b-c2a163f75a54",
   "metadata": {},
   "outputs": [
    {
     "data": {
      "text/plain": [
       "-2196167"
      ]
     },
     "execution_count": 31,
     "metadata": {},
     "output_type": "execute_result"
    }
   ],
   "source": [
    "#calculate the greatest decrease\n",
    "minchg = diff_df[\"Difference\"].min()\n",
    "minchg"
   ]
  },
  {
   "cell_type": "code",
   "execution_count": 32,
   "id": "896c87c5-30cb-47d8-a0c1-30a1b6787b1a",
   "metadata": {},
   "outputs": [
    {
     "data": {
      "text/plain": [
       "44    Sep-2013\n",
       "Name: Date, dtype: object"
      ]
     },
     "execution_count": 32,
     "metadata": {},
     "output_type": "execute_result"
    }
   ],
   "source": [
    "#find corresponding date\n",
    "mndate = diff_df.loc[df['Difference'] == minchg,'Date']\n",
    "mndate"
   ]
  },
  {
   "cell_type": "code",
   "execution_count": 33,
   "id": "beffb501-fbd8-41e9-b936-4aa9713e8498",
   "metadata": {},
   "outputs": [],
   "source": [
    "# set up the analysis, create dictionaires\n",
    "month = (f'Total Months: {months}')\n",
    "totals = (f'Total: ${net_total:,.2f}')\n",
    "avg = (f'Average Change: ${avgchg:,.2f}')\n",
    "inc = (f'Greatest Increase in Profits: {mxdate.to_string(index=False)} (${maxchg:,.2f})')\n",
    "dec = (f'Greatest Decrease in Profits: {mndate.to_string(index=False)} (${minchg:,.2f})')"
   ]
  },
  {
   "cell_type": "code",
   "execution_count": 34,
   "id": "47d1278a-8e81-48f0-a61b-796518938f11",
   "metadata": {},
   "outputs": [
    {
     "name": "stdout",
     "output_type": "stream",
     "text": [
      "Total Months: 86\n",
      "Total: $38,382,578.00\n",
      "Average Change: $-2,315.12\n",
      "Greatest Increase in Profits: Feb-2012 ($1,926,159.00)\n",
      "Greatest Decrease in Profits: Sep-2013 ($-2,196,167.00)\n"
     ]
    }
   ],
   "source": [
    "#show analysis\n",
    "analysis = print(month), print(totals), print(avg), print(inc), print(dec)"
   ]
  },
  {
   "cell_type": "code",
   "execution_count": 35,
   "id": "3ce18572-e781-48c5-bf1d-d26fbbe7c057",
   "metadata": {},
   "outputs": [],
   "source": [
    "# Convert list of dictionaries into a dataframe\n",
    "analyzed = [\n",
    "    {\"---------------------------\"},\n",
    "    {month},\n",
    "    {totals},\n",
    "    {avg},\n",
    "    {inc},\n",
    "    {dec}]\n",
    "\n",
    "analyzed_df = pda.DataFrame(analyzed)\n",
    "analyzed_df.columns = ['Analysis']"
   ]
  },
  {
   "cell_type": "code",
   "execution_count": 36,
   "id": "08be7f99-2c4c-4245-aac6-9094433799b4",
   "metadata": {},
   "outputs": [
    {
     "data": {
      "text/html": [
       "<div>\n",
       "<style scoped>\n",
       "    .dataframe tbody tr th:only-of-type {\n",
       "        vertical-align: middle;\n",
       "    }\n",
       "\n",
       "    .dataframe tbody tr th {\n",
       "        vertical-align: top;\n",
       "    }\n",
       "\n",
       "    .dataframe thead th {\n",
       "        text-align: right;\n",
       "    }\n",
       "</style>\n",
       "<table border=\"1\" class=\"dataframe\">\n",
       "  <thead>\n",
       "    <tr style=\"text-align: right;\">\n",
       "      <th></th>\n",
       "      <th>Analysis</th>\n",
       "    </tr>\n",
       "  </thead>\n",
       "  <tbody>\n",
       "    <tr>\n",
       "      <th>0</th>\n",
       "      <td>---------------------------</td>\n",
       "    </tr>\n",
       "    <tr>\n",
       "      <th>1</th>\n",
       "      <td>Total Months: 86</td>\n",
       "    </tr>\n",
       "    <tr>\n",
       "      <th>2</th>\n",
       "      <td>Total: $38,382,578.00</td>\n",
       "    </tr>\n",
       "    <tr>\n",
       "      <th>3</th>\n",
       "      <td>Average Change: $-2,315.12</td>\n",
       "    </tr>\n",
       "    <tr>\n",
       "      <th>4</th>\n",
       "      <td>Greatest Increase in Profits: Feb-2012 ($1,926...</td>\n",
       "    </tr>\n",
       "    <tr>\n",
       "      <th>5</th>\n",
       "      <td>Greatest Decrease in Profits: Sep-2013 ($-2,19...</td>\n",
       "    </tr>\n",
       "  </tbody>\n",
       "</table>\n",
       "</div>"
      ],
      "text/plain": [
       "                                            Analysis\n",
       "0                        ---------------------------\n",
       "1                                   Total Months: 86\n",
       "2                              Total: $38,382,578.00\n",
       "3                         Average Change: $-2,315.12\n",
       "4  Greatest Increase in Profits: Feb-2012 ($1,926...\n",
       "5  Greatest Decrease in Profits: Sep-2013 ($-2,19..."
      ]
     },
     "execution_count": 36,
     "metadata": {},
     "output_type": "execute_result"
    }
   ],
   "source": [
    "# show analysis\n",
    "analyzed_df"
   ]
  },
  {
   "cell_type": "code",
   "execution_count": null,
   "id": "f6dc339a-4736-47de-a52f-931e4f5d69f8",
   "metadata": {},
   "outputs": [],
   "source": [
    "# export analysis to txt file\n",
    "analyzed_df.to_csv(\"analysis/main.txt\", index=False)"
   ]
  },
  {
   "cell_type": "markdown",
   "id": "374e381c-1320-48e5-912b-bfbb90dba958",
   "metadata": {},
   "source": []
  },
  {
   "cell_type": "code",
   "execution_count": null,
   "id": "40c6a367-1711-4dd5-90a8-d910f40d4176",
   "metadata": {},
   "outputs": [],
   "source": []
  },
  {
   "cell_type": "code",
   "execution_count": null,
   "id": "52c3f3a9-42fd-4f47-af9a-78083d1bef04",
   "metadata": {},
   "outputs": [],
   "source": []
  }
 ],
 "metadata": {
  "kernelspec": {
   "display_name": "Python 3 (ipykernel)",
   "language": "python",
   "name": "python3"
  },
  "language_info": {
   "codemirror_mode": {
    "name": "ipython",
    "version": 3
   },
   "file_extension": ".py",
   "mimetype": "text/x-python",
   "name": "python",
   "nbconvert_exporter": "python",
   "pygments_lexer": "ipython3",
   "version": "3.9.7"
  }
 },
 "nbformat": 4,
 "nbformat_minor": 5
}
