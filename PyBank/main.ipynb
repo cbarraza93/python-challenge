{
 "cells": [
  {
   "cell_type": "code",
   "execution_count": 1,
   "id": "e3811106-7ceb-4043-ae7a-660b5f6ed360",
   "metadata": {},
   "outputs": [],
   "source": [
    "import os\n",
    "import pandas as pda"
   ]
  },
  {
   "cell_type": "code",
   "execution_count": 2,
   "id": "c8d2709c-cac6-40ac-bf62-d4d4086b53c0",
   "metadata": {},
   "outputs": [],
   "source": [
    "df = pda.read_csv(\"resources/budget_data.csv\")"
   ]
  },
  {
   "cell_type": "code",
   "execution_count": 3,
   "id": "3f6dbc8d-8378-4df6-95fc-97208598f15d",
   "metadata": {},
   "outputs": [],
   "source": [
    "# count number of months\n",
    "months = df[\"Date\"].count()"
   ]
  },
  {
   "cell_type": "code",
   "execution_count": 4,
   "id": "9086188b-8e2c-44cb-b7bd-963f1da4d825",
   "metadata": {},
   "outputs": [],
   "source": [
    "# count total profit/loss\n",
    "net_total = df[\"Profit/Losses\"].sum()"
   ]
  },
  {
   "cell_type": "code",
   "execution_count": 5,
   "id": "93b03a48-b1e6-4ed1-9eac-ec918dde087a",
   "metadata": {},
   "outputs": [],
   "source": [
    "# convert profitloss to list\n",
    "profitloss = df[\"Profit/Losses\"].to_list()"
   ]
  },
  {
   "cell_type": "code",
   "execution_count": 6,
   "id": "c771e6b2-6535-4a7e-9f7a-a407a635377c",
   "metadata": {},
   "outputs": [],
   "source": [
    "totalchg = [0]"
   ]
  },
  {
   "cell_type": "code",
   "execution_count": 7,
   "id": "3d5f286e-6286-47ff-b6dc-81e50cc03be6",
   "metadata": {},
   "outputs": [],
   "source": [
    "#calculate change\n",
    "for x in range(1, len(profitloss)):\n",
    "    change = profitloss[x]-profitloss[x - 1]\n",
    "    totalchg.append(change)\n"
   ]
  },
  {
   "cell_type": "code",
   "execution_count": 8,
   "id": "959ef9c9-1f06-466d-a15a-736ac768a3fb",
   "metadata": {},
   "outputs": [],
   "source": [
    "#add a column for the change\n",
    "df[\"Difference\"] = totalchg"
   ]
  },
  {
   "cell_type": "code",
   "execution_count": 9,
   "id": "5f077b0f-cadb-426c-bf77-e450e36e9595",
   "metadata": {},
   "outputs": [],
   "source": [
    "#calculate average of the change\n",
    "avgchg = df[\"Difference\"].sum() / 85"
   ]
  },
  {
   "cell_type": "code",
   "execution_count": 10,
   "id": "e18dc8da-4da8-430e-ad78-458d9530fb1f",
   "metadata": {},
   "outputs": [],
   "source": [
    "#calculate greatest increase \n",
    "maxchg = df[\"Difference\"].max()\n"
   ]
  },
  {
   "cell_type": "code",
   "execution_count": 11,
   "id": "70c69c17-dcf1-488c-9f7b-c2a163f75a54",
   "metadata": {},
   "outputs": [],
   "source": [
    "#calculate the greatest decrease\n",
    "minchg = df[\"Difference\"].min()"
   ]
  },
  {
   "cell_type": "code",
   "execution_count": 12,
   "id": "beffb501-fbd8-41e9-b936-4aa9713e8498",
   "metadata": {},
   "outputs": [],
   "source": [
    "# print the analysis\n",
    "month = (f'Total Months: {months}')\n",
    "total = (f'Total: ${net_total:,.2f}')\n",
    "avg = (f'Average Change: ${avgchg:,.2f}')\n",
    "inc = (f'Greatest Increase in Profits: ${maxchg:,.2f}')\n",
    "dec = (f'Greatest Decrease in Profits: ${minchg:,.2f}')\n"
   ]
  },
  {
   "cell_type": "code",
   "execution_count": 13,
   "id": "47d1278a-8e81-48f0-a61b-796518938f11",
   "metadata": {},
   "outputs": [
    {
     "name": "stdout",
     "output_type": "stream",
     "text": [
      "Total Months: 86\n",
      "Total: $38,382,578.00\n",
      "Average Change: $-2,315.12\n",
      "Greatest Increase in Profits: $1,926,159.00\n",
      "Greatest Decrease in Profits: $-2,196,167.00\n"
     ]
    }
   ],
   "source": [
    "#show analysis\n",
    "analysis = print(month), print(total), print(avg), print(inc), print(dec)"
   ]
  },
  {
   "cell_type": "code",
   "execution_count": 42,
   "id": "3ce18572-e781-48c5-bf1d-d26fbbe7c057",
   "metadata": {},
   "outputs": [],
   "source": [
    "# Convert a list of dictionaries into a dataframe\n",
    "analyzed = [\n",
    "    {\"---------------------------\"},\n",
    "    {month},\n",
    "    {total},\n",
    "    {avg},\n",
    "    {inc},\n",
    "    {dec}]\n",
    "\n",
    "analyzed_df = pda.DataFrame(analyzed)\n",
    "analyzed_df.columns = ['Analysis']"
   ]
  },
  {
   "cell_type": "code",
   "execution_count": 43,
   "id": "08be7f99-2c4c-4245-aac6-9094433799b4",
   "metadata": {},
   "outputs": [
    {
     "data": {
      "text/html": [
       "<div>\n",
       "<style scoped>\n",
       "    .dataframe tbody tr th:only-of-type {\n",
       "        vertical-align: middle;\n",
       "    }\n",
       "\n",
       "    .dataframe tbody tr th {\n",
       "        vertical-align: top;\n",
       "    }\n",
       "\n",
       "    .dataframe thead th {\n",
       "        text-align: right;\n",
       "    }\n",
       "</style>\n",
       "<table border=\"1\" class=\"dataframe\">\n",
       "  <thead>\n",
       "    <tr style=\"text-align: right;\">\n",
       "      <th></th>\n",
       "      <th>Analysis</th>\n",
       "    </tr>\n",
       "  </thead>\n",
       "  <tbody>\n",
       "    <tr>\n",
       "      <th>0</th>\n",
       "      <td>---------------------------</td>\n",
       "    </tr>\n",
       "    <tr>\n",
       "      <th>1</th>\n",
       "      <td>Total Months: 86</td>\n",
       "    </tr>\n",
       "    <tr>\n",
       "      <th>2</th>\n",
       "      <td>Total: $38,382,578.00</td>\n",
       "    </tr>\n",
       "    <tr>\n",
       "      <th>3</th>\n",
       "      <td>Average Change: $-2,315.12</td>\n",
       "    </tr>\n",
       "    <tr>\n",
       "      <th>4</th>\n",
       "      <td>Greatest Increase in Profits: $1,926,159.00</td>\n",
       "    </tr>\n",
       "    <tr>\n",
       "      <th>5</th>\n",
       "      <td>Greatest Decrease in Profits: $-2,196,167.00</td>\n",
       "    </tr>\n",
       "  </tbody>\n",
       "</table>\n",
       "</div>"
      ],
      "text/plain": [
       "                                       Analysis\n",
       "0                   ---------------------------\n",
       "1                              Total Months: 86\n",
       "2                         Total: $38,382,578.00\n",
       "3                    Average Change: $-2,315.12\n",
       "4   Greatest Increase in Profits: $1,926,159.00\n",
       "5  Greatest Decrease in Profits: $-2,196,167.00"
      ]
     },
     "execution_count": 43,
     "metadata": {},
     "output_type": "execute_result"
    }
   ],
   "source": [
    "# show analysis\n",
    "analyzed_df"
   ]
  },
  {
   "cell_type": "code",
   "execution_count": 44,
   "id": "f6dc339a-4736-47de-a52f-931e4f5d69f8",
   "metadata": {},
   "outputs": [],
   "source": [
    "# export analysis to txt file\n",
    "analyzed_df.to_csv(\"analysis/main.txt\", index=False)"
   ]
  },
  {
   "cell_type": "markdown",
   "id": "374e381c-1320-48e5-912b-bfbb90dba958",
   "metadata": {},
   "source": []
  },
  {
   "cell_type": "code",
   "execution_count": null,
   "id": "40c6a367-1711-4dd5-90a8-d910f40d4176",
   "metadata": {},
   "outputs": [],
   "source": []
  },
  {
   "cell_type": "code",
   "execution_count": null,
   "id": "52c3f3a9-42fd-4f47-af9a-78083d1bef04",
   "metadata": {},
   "outputs": [],
   "source": []
  }
 ],
 "metadata": {
  "kernelspec": {
   "display_name": "Python 3 (ipykernel)",
   "language": "python",
   "name": "python3"
  },
  "language_info": {
   "codemirror_mode": {
    "name": "ipython",
    "version": 3
   },
   "file_extension": ".py",
   "mimetype": "text/x-python",
   "name": "python",
   "nbconvert_exporter": "python",
   "pygments_lexer": "ipython3",
   "version": "3.9.7"
  }
 },
 "nbformat": 4,
 "nbformat_minor": 5
}
