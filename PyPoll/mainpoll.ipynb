{
 "cells": [
  {
   "cell_type": "code",
   "execution_count": 1,
   "id": "b970e75e-36cf-4e3f-b3c5-19511ff66583",
   "metadata": {},
   "outputs": [],
   "source": [
    "import os\n",
    "import pandas as pda"
   ]
  },
  {
   "cell_type": "code",
   "execution_count": 2,
   "id": "25fc1bcc-804f-40cf-aa36-26f66c3fe6d8",
   "metadata": {},
   "outputs": [],
   "source": [
    "df = pda.read_csv(\"resources/election_data.csv\")"
   ]
  },
  {
   "cell_type": "code",
   "execution_count": 3,
   "id": "5dd7d52d-cb78-4fbe-98c7-ec6f82ce2ae8",
   "metadata": {},
   "outputs": [
    {
     "data": {
      "text/html": [
       "<div>\n",
       "<style scoped>\n",
       "    .dataframe tbody tr th:only-of-type {\n",
       "        vertical-align: middle;\n",
       "    }\n",
       "\n",
       "    .dataframe tbody tr th {\n",
       "        vertical-align: top;\n",
       "    }\n",
       "\n",
       "    .dataframe thead th {\n",
       "        text-align: right;\n",
       "    }\n",
       "</style>\n",
       "<table border=\"1\" class=\"dataframe\">\n",
       "  <thead>\n",
       "    <tr style=\"text-align: right;\">\n",
       "      <th></th>\n",
       "      <th>Voter ID</th>\n",
       "      <th>County</th>\n",
       "      <th>Candidate</th>\n",
       "    </tr>\n",
       "  </thead>\n",
       "  <tbody>\n",
       "    <tr>\n",
       "      <th>0</th>\n",
       "      <td>12864552</td>\n",
       "      <td>Marsh</td>\n",
       "      <td>Khan</td>\n",
       "    </tr>\n",
       "    <tr>\n",
       "      <th>1</th>\n",
       "      <td>17444633</td>\n",
       "      <td>Marsh</td>\n",
       "      <td>Correy</td>\n",
       "    </tr>\n",
       "    <tr>\n",
       "      <th>2</th>\n",
       "      <td>19330107</td>\n",
       "      <td>Marsh</td>\n",
       "      <td>Khan</td>\n",
       "    </tr>\n",
       "    <tr>\n",
       "      <th>3</th>\n",
       "      <td>19865775</td>\n",
       "      <td>Queen</td>\n",
       "      <td>Khan</td>\n",
       "    </tr>\n",
       "    <tr>\n",
       "      <th>4</th>\n",
       "      <td>11927875</td>\n",
       "      <td>Marsh</td>\n",
       "      <td>Khan</td>\n",
       "    </tr>\n",
       "  </tbody>\n",
       "</table>\n",
       "</div>"
      ],
      "text/plain": [
       "   Voter ID County Candidate\n",
       "0  12864552  Marsh      Khan\n",
       "1  17444633  Marsh    Correy\n",
       "2  19330107  Marsh      Khan\n",
       "3  19865775  Queen      Khan\n",
       "4  11927875  Marsh      Khan"
      ]
     },
     "execution_count": 3,
     "metadata": {},
     "output_type": "execute_result"
    }
   ],
   "source": [
    "#show top 5 rows of data frame\n",
    "df.head()"
   ]
  },
  {
   "cell_type": "code",
   "execution_count": 4,
   "id": "dabfdbfe-ba6a-4ea8-8c0b-62f42152e203",
   "metadata": {},
   "outputs": [
    {
     "data": {
      "text/plain": [
       "3521001"
      ]
     },
     "execution_count": 4,
     "metadata": {},
     "output_type": "execute_result"
    }
   ],
   "source": [
    "# count total number of votes\n",
    "votes = len(df)\n",
    "votes"
   ]
  },
  {
   "cell_type": "code",
   "execution_count": 5,
   "id": "35036ce7-0017-4758-8a38-2494ae8d815e",
   "metadata": {},
   "outputs": [
    {
     "data": {
      "text/plain": [
       "Khan        2218231\n",
       "Correy       704200\n",
       "Li           492940\n",
       "O'Tooley     105630\n",
       "Name: Candidate, dtype: int64"
      ]
     },
     "execution_count": 5,
     "metadata": {},
     "output_type": "execute_result"
    }
   ],
   "source": [
    "# count number of votes per candidate\n",
    "counts = df[\"Candidate\"].value_counts()\n",
    "counts"
   ]
  },
  {
   "cell_type": "code",
   "execution_count": 6,
   "id": "ea1814b6-0247-4526-8f65-f8449bd2c16d",
   "metadata": {},
   "outputs": [
    {
     "data": {
      "text/plain": [
       "array(['Khan', 'Correy', 'Li', \"O'Tooley\"], dtype=object)"
      ]
     },
     "execution_count": 6,
     "metadata": {},
     "output_type": "execute_result"
    }
   ],
   "source": [
    "#list individual candidates\n",
    "candidates = df['Candidate'].unique()\n",
    "candidates"
   ]
  },
  {
   "cell_type": "code",
   "execution_count": 7,
   "id": "cbdd9bb7-efc8-4d25-8400-76e2b0c551c2",
   "metadata": {},
   "outputs": [
    {
     "data": {
      "text/plain": [
       "[2218231, 704200, 492940, 105630]"
      ]
     },
     "execution_count": 7,
     "metadata": {},
     "output_type": "execute_result"
    }
   ],
   "source": [
    "#find total candidate counts\n",
    "cand = df[\"Candidate\"].value_counts().to_list()\n",
    "cand"
   ]
  },
  {
   "cell_type": "code",
   "execution_count": 8,
   "id": "f5eb1865-4323-4ed6-852c-324a76e13994",
   "metadata": {},
   "outputs": [
    {
     "data": {
      "text/html": [
       "<div>\n",
       "<style scoped>\n",
       "    .dataframe tbody tr th:only-of-type {\n",
       "        vertical-align: middle;\n",
       "    }\n",
       "\n",
       "    .dataframe tbody tr th {\n",
       "        vertical-align: top;\n",
       "    }\n",
       "\n",
       "    .dataframe thead th {\n",
       "        text-align: right;\n",
       "    }\n",
       "</style>\n",
       "<table border=\"1\" class=\"dataframe\">\n",
       "  <thead>\n",
       "    <tr style=\"text-align: right;\">\n",
       "      <th></th>\n",
       "      <th>Candidate</th>\n",
       "      <th>Votes</th>\n",
       "    </tr>\n",
       "  </thead>\n",
       "  <tbody>\n",
       "    <tr>\n",
       "      <th>Khan</th>\n",
       "      <td>Khan</td>\n",
       "      <td>2218231</td>\n",
       "    </tr>\n",
       "    <tr>\n",
       "      <th>Correy</th>\n",
       "      <td>Correy</td>\n",
       "      <td>704200</td>\n",
       "    </tr>\n",
       "    <tr>\n",
       "      <th>Li</th>\n",
       "      <td>Li</td>\n",
       "      <td>492940</td>\n",
       "    </tr>\n",
       "    <tr>\n",
       "      <th>O'Tooley</th>\n",
       "      <td>O'Tooley</td>\n",
       "      <td>105630</td>\n",
       "    </tr>\n",
       "  </tbody>\n",
       "</table>\n",
       "</div>"
      ],
      "text/plain": [
       "         Candidate    Votes\n",
       "Khan          Khan  2218231\n",
       "Correy      Correy   704200\n",
       "Li              Li   492940\n",
       "O'Tooley  O'Tooley   105630"
      ]
     },
     "execution_count": 8,
     "metadata": {},
     "output_type": "execute_result"
    }
   ],
   "source": [
    "analyze_df = pda.DataFrame(counts)\n",
    "analyze_df[\"Candidate\"] = candidates\n",
    "analyze_df[\"Votes\"] = cand\n",
    "analyze_df.head()"
   ]
  },
  {
   "cell_type": "code",
   "execution_count": 9,
   "id": "fdbd8243-b72e-4736-8b01-c0d044d1322e",
   "metadata": {},
   "outputs": [
    {
     "data": {
      "text/plain": [
       "Khan        2218231\n",
       "Correy       704200\n",
       "Li           492940\n",
       "O'Tooley     105630\n",
       "Name: Votes, dtype: int64"
      ]
     },
     "execution_count": 9,
     "metadata": {},
     "output_type": "execute_result"
    }
   ],
   "source": [
    "counters = analyze_df.loc[analyze_df['Votes'] == cand,'Votes']\n",
    "counters"
   ]
  },
  {
   "cell_type": "code",
   "execution_count": 10,
   "id": "dc6c23c2-3be4-4a20-97b1-d49f384014d2",
   "metadata": {},
   "outputs": [
    {
     "data": {
      "text/html": [
       "<div>\n",
       "<style scoped>\n",
       "    .dataframe tbody tr th:only-of-type {\n",
       "        vertical-align: middle;\n",
       "    }\n",
       "\n",
       "    .dataframe tbody tr th {\n",
       "        vertical-align: top;\n",
       "    }\n",
       "\n",
       "    .dataframe thead th {\n",
       "        text-align: right;\n",
       "    }\n",
       "</style>\n",
       "<table border=\"1\" class=\"dataframe\">\n",
       "  <thead>\n",
       "    <tr style=\"text-align: right;\">\n",
       "      <th></th>\n",
       "      <th>Votes</th>\n",
       "    </tr>\n",
       "  </thead>\n",
       "  <tbody>\n",
       "    <tr>\n",
       "      <th>Khan</th>\n",
       "      <td>2218231</td>\n",
       "    </tr>\n",
       "    <tr>\n",
       "      <th>Correy</th>\n",
       "      <td>704200</td>\n",
       "    </tr>\n",
       "    <tr>\n",
       "      <th>Li</th>\n",
       "      <td>492940</td>\n",
       "    </tr>\n",
       "    <tr>\n",
       "      <th>O'Tooley</th>\n",
       "      <td>105630</td>\n",
       "    </tr>\n",
       "  </tbody>\n",
       "</table>\n",
       "</div>"
      ],
      "text/plain": [
       "            Votes\n",
       "Khan      2218231\n",
       "Correy     704200\n",
       "Li         492940\n",
       "O'Tooley   105630"
      ]
     },
     "execution_count": 10,
     "metadata": {},
     "output_type": "execute_result"
    }
   ],
   "source": [
    "analyzed_df = pda.DataFrame(counters)\n",
    "analyzed_df.head()"
   ]
  },
  {
   "cell_type": "code",
   "execution_count": 11,
   "id": "aced2f64-af75-4ca3-a83a-2e31d0ae1af9",
   "metadata": {},
   "outputs": [],
   "source": [
    "khanperc = 2218231 / votes\n",
    "corperc = 704200 / votes\n",
    "liperc = 492940 / votes\n",
    "otoperc = 105630 / votes"
   ]
  },
  {
   "cell_type": "code",
   "execution_count": 12,
   "id": "1c1e5307-b284-4018-b801-8eae47dbf370",
   "metadata": {},
   "outputs": [],
   "source": [
    "pctg = khanperc*100, corperc*100, liperc*100, otoperc*100"
   ]
  },
  {
   "cell_type": "code",
   "execution_count": 13,
   "id": "ff3dc60d-d9ce-44c6-ac3d-4d9c1c711114",
   "metadata": {},
   "outputs": [
    {
     "data": {
      "text/plain": [
       "(63.00001050837531, 19.999994319797125, 13.999996023857989, 2.999999147969569)"
      ]
     },
     "execution_count": 13,
     "metadata": {},
     "output_type": "execute_result"
    }
   ],
   "source": [
    "pctg"
   ]
  },
  {
   "cell_type": "code",
   "execution_count": 14,
   "id": "ec820d63-e941-4532-8b8e-e8d63a5c6eae",
   "metadata": {},
   "outputs": [],
   "source": [
    "analyzed_df[\"Percentage\"] = pctg"
   ]
  },
  {
   "cell_type": "code",
   "execution_count": 15,
   "id": "b622407b-8d32-479f-b7c2-ebd826f981b4",
   "metadata": {},
   "outputs": [
    {
     "data": {
      "text/html": [
       "<div>\n",
       "<style scoped>\n",
       "    .dataframe tbody tr th:only-of-type {\n",
       "        vertical-align: middle;\n",
       "    }\n",
       "\n",
       "    .dataframe tbody tr th {\n",
       "        vertical-align: top;\n",
       "    }\n",
       "\n",
       "    .dataframe thead th {\n",
       "        text-align: right;\n",
       "    }\n",
       "</style>\n",
       "<table border=\"1\" class=\"dataframe\">\n",
       "  <thead>\n",
       "    <tr style=\"text-align: right;\">\n",
       "      <th></th>\n",
       "      <th>Votes</th>\n",
       "      <th>Percentage</th>\n",
       "    </tr>\n",
       "  </thead>\n",
       "  <tbody>\n",
       "    <tr>\n",
       "      <th>Khan</th>\n",
       "      <td>2218231</td>\n",
       "      <td>63.000011</td>\n",
       "    </tr>\n",
       "    <tr>\n",
       "      <th>Correy</th>\n",
       "      <td>704200</td>\n",
       "      <td>19.999994</td>\n",
       "    </tr>\n",
       "    <tr>\n",
       "      <th>Li</th>\n",
       "      <td>492940</td>\n",
       "      <td>13.999996</td>\n",
       "    </tr>\n",
       "    <tr>\n",
       "      <th>O'Tooley</th>\n",
       "      <td>105630</td>\n",
       "      <td>2.999999</td>\n",
       "    </tr>\n",
       "  </tbody>\n",
       "</table>\n",
       "</div>"
      ],
      "text/plain": [
       "            Votes  Percentage\n",
       "Khan      2218231   63.000011\n",
       "Correy     704200   19.999994\n",
       "Li         492940   13.999996\n",
       "O'Tooley   105630    2.999999"
      ]
     },
     "execution_count": 15,
     "metadata": {},
     "output_type": "execute_result"
    }
   ],
   "source": [
    "analyzed_df.head()"
   ]
  },
  {
   "cell_type": "code",
   "execution_count": 16,
   "id": "bdc148ca-c548-4111-bbed-43a49f78356f",
   "metadata": {},
   "outputs": [
    {
     "name": "stdout",
     "output_type": "stream",
     "text": [
      "  candidates    Votes  Percentage\n",
      "0       Khan  2218231   63.000011\n",
      "1     Correy   704200   19.999994\n",
      "2         Li   492940   13.999996\n",
      "3   O'Tooley   105630    2.999999\n"
     ]
    }
   ],
   "source": [
    "new_df = analyzed_df.rename_axis('candidates').reset_index()\n",
    "print(new_df)"
   ]
  },
  {
   "cell_type": "code",
   "execution_count": 17,
   "id": "a81c63b2-cd68-4114-951b-cfd6d18f20d4",
   "metadata": {},
   "outputs": [
    {
     "data": {
      "text/html": [
       "<div>\n",
       "<style scoped>\n",
       "    .dataframe tbody tr th:only-of-type {\n",
       "        vertical-align: middle;\n",
       "    }\n",
       "\n",
       "    .dataframe tbody tr th {\n",
       "        vertical-align: top;\n",
       "    }\n",
       "\n",
       "    .dataframe thead th {\n",
       "        text-align: right;\n",
       "    }\n",
       "</style>\n",
       "<table border=\"1\" class=\"dataframe\">\n",
       "  <thead>\n",
       "    <tr style=\"text-align: right;\">\n",
       "      <th></th>\n",
       "      <th>candidates</th>\n",
       "      <th>Votes</th>\n",
       "      <th>Percentage</th>\n",
       "    </tr>\n",
       "  </thead>\n",
       "  <tbody>\n",
       "    <tr>\n",
       "      <th>0</th>\n",
       "      <td>Khan</td>\n",
       "      <td>2218231</td>\n",
       "      <td>63.000011</td>\n",
       "    </tr>\n",
       "    <tr>\n",
       "      <th>1</th>\n",
       "      <td>Correy</td>\n",
       "      <td>704200</td>\n",
       "      <td>19.999994</td>\n",
       "    </tr>\n",
       "    <tr>\n",
       "      <th>2</th>\n",
       "      <td>Li</td>\n",
       "      <td>492940</td>\n",
       "      <td>13.999996</td>\n",
       "    </tr>\n",
       "    <tr>\n",
       "      <th>3</th>\n",
       "      <td>O'Tooley</td>\n",
       "      <td>105630</td>\n",
       "      <td>2.999999</td>\n",
       "    </tr>\n",
       "  </tbody>\n",
       "</table>\n",
       "</div>"
      ],
      "text/plain": [
       "  candidates    Votes  Percentage\n",
       "0       Khan  2218231   63.000011\n",
       "1     Correy   704200   19.999994\n",
       "2         Li   492940   13.999996\n",
       "3   O'Tooley   105630    2.999999"
      ]
     },
     "execution_count": 17,
     "metadata": {},
     "output_type": "execute_result"
    }
   ],
   "source": [
    "new_df.head()"
   ]
  },
  {
   "cell_type": "code",
   "execution_count": 18,
   "id": "8d43e1e2-6869-4592-be9e-80ccdf6e1195",
   "metadata": {},
   "outputs": [
    {
     "data": {
      "text/plain": [
       "63.00001050837531"
      ]
     },
     "execution_count": 18,
     "metadata": {},
     "output_type": "execute_result"
    }
   ],
   "source": [
    "win = analyzed_df[\"Percentage\"].max()\n",
    "win"
   ]
  },
  {
   "cell_type": "code",
   "execution_count": 19,
   "id": "dc971e19-51ed-4262-a38d-f9753874da07",
   "metadata": {},
   "outputs": [],
   "source": [
    "winner = new_df.loc[new_df['Percentage'] == win,'candidates']"
   ]
  },
  {
   "cell_type": "code",
   "execution_count": 20,
   "id": "5252ebf8-b79d-4b8f-98cc-d62c888378a2",
   "metadata": {},
   "outputs": [],
   "source": [
    "tvotes = (f'Total Votes: {votes}')\n",
    "results = new_df\n",
    "champ = (f'The Winner is: {winner.to_string(index=False)}')"
   ]
  },
  {
   "cell_type": "code",
   "execution_count": 21,
   "id": "dd593356-6d26-4da6-8a2c-aabf475898c9",
   "metadata": {},
   "outputs": [
    {
     "name": "stdout",
     "output_type": "stream",
     "text": [
      "candidates   Votes  Percentage\n",
      "      Khan 2218231   63.000011\n",
      "    Correy  704200   19.999994\n",
      "        Li  492940   13.999996\n",
      "  O'Tooley  105630    2.999999\n"
     ]
    }
   ],
   "source": [
    "resultss = new_df.to_string(header=True, index=False)\n",
    "print(resultss)"
   ]
  },
  {
   "cell_type": "code",
   "execution_count": 22,
   "id": "9f190e12-e287-49e8-a135-6b5c4819e941",
   "metadata": {},
   "outputs": [
    {
     "name": "stdout",
     "output_type": "stream",
     "text": [
      "Election Results\n",
      "Total Votes: 3521001\n",
      "candidates   Votes  Percentage\n",
      "      Khan 2218231   63.000011\n",
      "    Correy  704200   19.999994\n",
      "        Li  492940   13.999996\n",
      "  O'Tooley  105630    2.999999\n",
      "The Winner is: Khan\n"
     ]
    }
   ],
   "source": [
    "finals = print(\"Election Results\"), print(tvotes), print(resultss), print(champ)"
   ]
  },
  {
   "cell_type": "code",
   "execution_count": 23,
   "id": "b3be932e-1aef-43b8-8bec-457c9d6ca043",
   "metadata": {},
   "outputs": [],
   "source": [
    "finalss = [\n",
    "    {\"---------------------------\"},\n",
    "    {tvotes},\n",
    "    {\"---------------------------\"},\n",
    "    {resultss},\n",
    "    {\"---------------------------\"},\n",
    "    {champ}]"
   ]
  },
  {
   "cell_type": "code",
   "execution_count": 24,
   "id": "fea70c40-5a50-43db-81db-6925845a893d",
   "metadata": {},
   "outputs": [
    {
     "data": {
      "text/plain": [
       "[{'---------------------------'},\n",
       " {'Total Votes: 3521001'},\n",
       " {'---------------------------'},\n",
       " {\"candidates   Votes  Percentage\\n      Khan 2218231   63.000011\\n    Correy  704200   19.999994\\n        Li  492940   13.999996\\n  O'Tooley  105630    2.999999\"},\n",
       " {'---------------------------'},\n",
       " {'The Winner is: Khan'}]"
      ]
     },
     "execution_count": 24,
     "metadata": {},
     "output_type": "execute_result"
    }
   ],
   "source": [
    "finalss"
   ]
  },
  {
   "cell_type": "code",
   "execution_count": 25,
   "id": "9c84c085-090b-4056-9989-5f8b11c75d6e",
   "metadata": {},
   "outputs": [
    {
     "data": {
      "text/html": [
       "<div>\n",
       "<style scoped>\n",
       "    .dataframe tbody tr th:only-of-type {\n",
       "        vertical-align: middle;\n",
       "    }\n",
       "\n",
       "    .dataframe tbody tr th {\n",
       "        vertical-align: top;\n",
       "    }\n",
       "\n",
       "    .dataframe thead th {\n",
       "        text-align: right;\n",
       "    }\n",
       "</style>\n",
       "<table border=\"1\" class=\"dataframe\">\n",
       "  <thead>\n",
       "    <tr style=\"text-align: right;\">\n",
       "      <th></th>\n",
       "      <th>Election Results</th>\n",
       "    </tr>\n",
       "  </thead>\n",
       "  <tbody>\n",
       "    <tr>\n",
       "      <th>0</th>\n",
       "      <td>---------------------------</td>\n",
       "    </tr>\n",
       "    <tr>\n",
       "      <th>1</th>\n",
       "      <td>Total Votes: 3521001</td>\n",
       "    </tr>\n",
       "    <tr>\n",
       "      <th>2</th>\n",
       "      <td>---------------------------</td>\n",
       "    </tr>\n",
       "    <tr>\n",
       "      <th>3</th>\n",
       "      <td>candidates   Votes  Percentage\\n      Khan 221...</td>\n",
       "    </tr>\n",
       "    <tr>\n",
       "      <th>4</th>\n",
       "      <td>---------------------------</td>\n",
       "    </tr>\n",
       "    <tr>\n",
       "      <th>5</th>\n",
       "      <td>The Winner is: Khan</td>\n",
       "    </tr>\n",
       "  </tbody>\n",
       "</table>\n",
       "</div>"
      ],
      "text/plain": [
       "                                    Election Results\n",
       "0                        ---------------------------\n",
       "1                               Total Votes: 3521001\n",
       "2                        ---------------------------\n",
       "3  candidates   Votes  Percentage\\n      Khan 221...\n",
       "4                        ---------------------------\n",
       "5                                The Winner is: Khan"
      ]
     },
     "execution_count": 25,
     "metadata": {},
     "output_type": "execute_result"
    }
   ],
   "source": [
    "analyzedd_df = pda.DataFrame(finalss)\n",
    "analyzedd_df.columns = ['Election Results']\n",
    "analyzedd_df"
   ]
  },
  {
   "cell_type": "code",
   "execution_count": 26,
   "id": "b3130244-4cf8-464d-8fa9-a75862da2d3f",
   "metadata": {},
   "outputs": [],
   "source": [
    "analyzedd_df.to_csv(\"analysis/mains.txt\", index=False)"
   ]
  },
  {
   "cell_type": "code",
   "execution_count": null,
   "id": "9cb91095-d4d8-4643-b540-ee91e65e91f4",
   "metadata": {},
   "outputs": [],
   "source": []
  },
  {
   "cell_type": "code",
   "execution_count": null,
   "id": "795b41af-2e25-435a-9614-047620573527",
   "metadata": {},
   "outputs": [],
   "source": []
  }
 ],
 "metadata": {
  "kernelspec": {
   "display_name": "Python 3 (ipykernel)",
   "language": "python",
   "name": "python3"
  },
  "language_info": {
   "codemirror_mode": {
    "name": "ipython",
    "version": 3
   },
   "file_extension": ".py",
   "mimetype": "text/x-python",
   "name": "python",
   "nbconvert_exporter": "python",
   "pygments_lexer": "ipython3",
   "version": "3.9.7"
  }
 },
 "nbformat": 4,
 "nbformat_minor": 5
}
