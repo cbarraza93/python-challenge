{
 "cells": [
  {
   "cell_type": "code",
   "execution_count": 1,
   "id": "b970e75e-36cf-4e3f-b3c5-19511ff66583",
   "metadata": {},
   "outputs": [],
   "source": [
    "import os\n",
    "import pandas as pda"
   ]
  },
  {
   "cell_type": "code",
   "execution_count": 2,
   "id": "25fc1bcc-804f-40cf-aa36-26f66c3fe6d8",
   "metadata": {},
   "outputs": [],
   "source": [
    "df = pda.read_csv(\"resources/election_data.csv\")"
   ]
  },
  {
   "cell_type": "code",
   "execution_count": null,
   "id": "edef6595-d362-4603-b2b7-99e4bed3ca85",
   "metadata": {},
   "outputs": [],
   "source": [
    "#find number of columns\n",
    "df.info()\n",
    "df.count()"
   ]
  },
  {
   "cell_type": "code",
   "execution_count": null,
   "id": "5dd7d52d-cb78-4fbe-98c7-ec6f82ce2ae8",
   "metadata": {},
   "outputs": [],
   "source": [
    "#show top 5 rows of data frame\n",
    "df.head()"
   ]
  },
  {
   "cell_type": "code",
   "execution_count": 3,
   "id": "dabfdbfe-ba6a-4ea8-8c0b-62f42152e203",
   "metadata": {},
   "outputs": [
    {
     "data": {
      "text/plain": [
       "3521001"
      ]
     },
     "execution_count": 3,
     "metadata": {},
     "output_type": "execute_result"
    }
   ],
   "source": [
    "# count number of votes\n",
    "votes = len(df)\n",
    "votes"
   ]
  },
  {
   "cell_type": "code",
   "execution_count": 15,
   "id": "35036ce7-0017-4758-8a38-2494ae8d815e",
   "metadata": {},
   "outputs": [
    {
     "data": {
      "text/plain": [
       "Khan        2218231\n",
       "Correy       704200\n",
       "Li           492940\n",
       "O'Tooley     105630\n",
       "Name: Candidate, dtype: int64"
      ]
     },
     "execution_count": 15,
     "metadata": {},
     "output_type": "execute_result"
    }
   ],
   "source": [
    "# count number of votes per candidate\n",
    "counts = df[\"Candidate\"].value_counts()\n",
    "counts"
   ]
  },
  {
   "cell_type": "code",
   "execution_count": 48,
   "id": "13bbcfec-16ef-4ca8-ba8a-d92c0efbfce8",
   "metadata": {},
   "outputs": [
    {
     "data": {
      "text/plain": [
       "True     0.63\n",
       "False    0.37\n",
       "Name: Candidate, dtype: float64"
      ]
     },
     "execution_count": 48,
     "metadata": {},
     "output_type": "execute_result"
    }
   ],
   "source": [
    "#calculate percent\n",
    "khan = df[\"Candidate\"] == \"Khan\"\n",
    "khanper = khan.value_counts(True)\n",
    "khanper"
   ]
  },
  {
   "cell_type": "code",
   "execution_count": 49,
   "id": "83d94685-8100-4009-b7e9-231674952721",
   "metadata": {},
   "outputs": [
    {
     "data": {
      "text/plain": [
       "False    0.8\n",
       "True     0.2\n",
       "Name: Candidate, dtype: float64"
      ]
     },
     "execution_count": 49,
     "metadata": {},
     "output_type": "execute_result"
    }
   ],
   "source": [
    "Correy = df[\"Candidate\"] == \"Correy\"\n",
    "corper = Correy.value_counts(True)\n",
    "corper"
   ]
  },
  {
   "cell_type": "code",
   "execution_count": 50,
   "id": "2c031b3f-c441-4cac-9f41-372d084922ef",
   "metadata": {},
   "outputs": [
    {
     "data": {
      "text/plain": [
       "False    0.86\n",
       "True     0.14\n",
       "Name: Candidate, dtype: float64"
      ]
     },
     "execution_count": 50,
     "metadata": {},
     "output_type": "execute_result"
    }
   ],
   "source": [
    "li = df[\"Candidate\"] == \"Li\"\n",
    "liper = li.value_counts(True)\n",
    "liper"
   ]
  },
  {
   "cell_type": "code",
   "execution_count": 52,
   "id": "41fdc39f-8bd1-4bcd-9e87-09594087bee8",
   "metadata": {},
   "outputs": [
    {
     "data": {
      "text/plain": [
       "False    1.0\n",
       "Name: Candidate, dtype: float64"
      ]
     },
     "execution_count": 52,
     "metadata": {},
     "output_type": "execute_result"
    }
   ],
   "source": [
    "otooley = df[\"Candidate\"] == \"Otooley\"\n",
    "otoper = otooley.value_counts(True)\n",
    "otoper"
   ]
  },
  {
   "cell_type": "code",
   "execution_count": null,
   "id": "4d972b2a-d5bf-49e4-a359-0b2deb226be6",
   "metadata": {},
   "outputs": [],
   "source": []
  },
  {
   "cell_type": "code",
   "execution_count": null,
   "id": "5b735585-2ad5-40ab-870c-1552f4b60185",
   "metadata": {},
   "outputs": [],
   "source": [
    "analyzed_df[\"Percent\"] = percent\n",
    "analyzed_df.head()"
   ]
  },
  {
   "cell_type": "code",
   "execution_count": null,
   "id": "1c1e5307-b284-4018-b801-8eae47dbf370",
   "metadata": {},
   "outputs": [],
   "source": []
  }
 ],
 "metadata": {
  "kernelspec": {
   "display_name": "Python 3 (ipykernel)",
   "language": "python",
   "name": "python3"
  },
  "language_info": {
   "codemirror_mode": {
    "name": "ipython",
    "version": 3
   },
   "file_extension": ".py",
   "mimetype": "text/x-python",
   "name": "python",
   "nbconvert_exporter": "python",
   "pygments_lexer": "ipython3",
   "version": "3.9.7"
  }
 },
 "nbformat": 4,
 "nbformat_minor": 5
}
